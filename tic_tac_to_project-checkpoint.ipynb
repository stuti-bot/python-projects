{
 "cells": [
  {
   "cell_type": "code",
   "execution_count": 1,
   "metadata": {},
   "outputs": [],
   "source": [
    "from IPython.display import clear_output\n",
    "\n",
    "def display_board(board):\n",
    "    print(board[1]+'|'+board[2]+'|'+board[3]) \n",
    "    print(board[4]+'|'+board[5]+'|'+board[6])\n",
    "    print(board[7]+'|'+board[8]+'|'+board[9])"
   ]
  },
  {
   "cell_type": "code",
   "execution_count": 2,
   "metadata": {},
   "outputs": [
    {
     "name": "stdout",
     "output_type": "stream",
     "text": [
      "X|O|X\n",
      " |X|O\n",
      "X|O|X\n"
     ]
    }
   ],
   "source": [
    "test_board = ['#','X','O','X',' ','X','O','X','O','X']\n",
    "display_board(test_board)"
   ]
  },
  {
   "cell_type": "code",
   "execution_count": 3,
   "metadata": {},
   "outputs": [],
   "source": [
    "def player_input():\n",
    "    marker = ''\n",
    "    while not(marker =='X' or marker=='O' or marker=='x' or marker=='o'):\n",
    "        marker = input('player1 choose X or O: ')\n",
    "        player1=marker.upper()\n",
    "        \n",
    "    if player1 == 'X':\n",
    "        player2 = 'O'\n",
    "    else:\n",
    "        player2 = 'X'\n",
    "    return(player1,player2)"
   ]
  },
  {
   "cell_type": "code",
   "execution_count": 4,
   "metadata": {},
   "outputs": [
    {
     "name": "stdout",
     "output_type": "stream",
     "text": [
      "player1 choose X or O: X\n"
     ]
    },
    {
     "data": {
      "text/plain": [
       "('X', 'O')"
      ]
     },
     "execution_count": 4,
     "metadata": {},
     "output_type": "execute_result"
    }
   ],
   "source": [
    "player_input()"
   ]
  },
  {
   "cell_type": "code",
   "execution_count": 5,
   "metadata": {},
   "outputs": [],
   "source": [
    "def place_marker(board,marker,position):\n",
    "    board[position]=marker\n",
    "    display_board(board)"
   ]
  },
  {
   "cell_type": "code",
   "execution_count": 6,
   "metadata": {},
   "outputs": [],
   "source": [
    "def win_check(board,marker):\n",
    "    return ((board[1]== marker and board[2]==marker and board[3]==marker)or #top line\n",
    "            (board[4]== marker and board[5]==marker and board[6]==marker)or #middle line\n",
    "            (board[7]== marker and board[8]==marker and board[9]==marker)or #last line\n",
    "            (board[1]== marker and board[4]==marker and board[7]==marker)or #left  \n",
    "            (board[2]== marker and board[5]==marker and board[8]==marker)or #between\n",
    "            (board[3]== marker and board[6]==marker and board[9]==marker)or #right\n",
    "            (board[1]== marker and board[5]==marker and board[9]==marker)or #diagonal1\n",
    "            (board[3]== marker and board[5]==marker and board[7]==marker))  #diagonal2"
   ]
  },
  {
   "cell_type": "code",
   "execution_count": 7,
   "metadata": {},
   "outputs": [
    {
     "data": {
      "text/plain": [
       "True"
      ]
     },
     "execution_count": 7,
     "metadata": {},
     "output_type": "execute_result"
    }
   ],
   "source": [
    "win_check(test_board,'X')"
   ]
  },
  {
   "cell_type": "code",
   "execution_count": 8,
   "metadata": {},
   "outputs": [],
   "source": [
    "import random\n",
    "\n",
    "def choose_first():\n",
    "    if random.randint(0,1) == 0:\n",
    "        return 'Player1'\n",
    "    else:\n",
    "        return 'Player2'"
   ]
  },
  {
   "cell_type": "code",
   "execution_count": 9,
   "metadata": {},
   "outputs": [
    {
     "data": {
      "text/plain": [
       "'Player1'"
      ]
     },
     "execution_count": 9,
     "metadata": {},
     "output_type": "execute_result"
    }
   ],
   "source": [
    "choose_first()"
   ]
  },
  {
   "cell_type": "code",
   "execution_count": 10,
   "metadata": {},
   "outputs": [],
   "source": [
    "def space_check(board, position):\n",
    "    return board[position]==' '"
   ]
  },
  {
   "cell_type": "code",
   "execution_count": 11,
   "metadata": {},
   "outputs": [
    {
     "data": {
      "text/plain": [
       "True"
      ]
     },
     "execution_count": 11,
     "metadata": {},
     "output_type": "execute_result"
    }
   ],
   "source": [
    "space_check(test_board,4)"
   ]
  },
  {
   "cell_type": "code",
   "execution_count": 12,
   "metadata": {},
   "outputs": [],
   "source": [
    "def full_board_check(board):\n",
    "    flag = True\n",
    "    for i in range(0,10):\n",
    "        if space_check(board,i) == False:\n",
    "            flag = True\n",
    "        else:\n",
    "            flag = False\n",
    "        return flag"
   ]
  },
  {
   "cell_type": "code",
   "execution_count": 13,
   "metadata": {},
   "outputs": [
    {
     "data": {
      "text/plain": [
       "True"
      ]
     },
     "execution_count": 13,
     "metadata": {},
     "output_type": "execute_result"
    }
   ],
   "source": [
    "full_board_check(test_board)"
   ]
  },
  {
   "cell_type": "code",
   "execution_count": 14,
   "metadata": {},
   "outputs": [],
   "source": [
    "def player_choice(board):\n",
    "    position = 0\n",
    "    while position not in [1,2,3,4,5,6,7,8,9] or not space_check(board, position):\n",
    "        position = int(input('Choose your  position(like in a keypad): (1-9) '))\n",
    "    return position"
   ]
  },
  {
   "cell_type": "code",
   "execution_count": 15,
   "metadata": {},
   "outputs": [
    {
     "name": "stdout",
     "output_type": "stream",
     "text": [
      "Choose your  position(like in a keypad): (1-9) 3\n",
      "Choose your  position(like in a keypad): (1-9) 2\n",
      "Choose your  position(like in a keypad): (1-9) 5\n",
      "Choose your  position(like in a keypad): (1-9) 7\n",
      "Choose your  position(like in a keypad): (1-9) 8\n",
      "Choose your  position(like in a keypad): (1-9) 1\n",
      "Choose your  position(like in a keypad): (1-9) 4\n"
     ]
    },
    {
     "data": {
      "text/plain": [
       "4"
      ]
     },
     "execution_count": 15,
     "metadata": {},
     "output_type": "execute_result"
    }
   ],
   "source": [
    "player_choice(test_board)"
   ]
  },
  {
   "cell_type": "code",
   "execution_count": 16,
   "metadata": {},
   "outputs": [],
   "source": [
    "def replay():\n",
    "    choice = input('do you want to continue answer y or n:').upper()\n",
    "    return choice"
   ]
  },
  {
   "cell_type": "code",
   "execution_count": 17,
   "metadata": {},
   "outputs": [
    {
     "name": "stdout",
     "output_type": "stream",
     "text": [
      "do you want to continue answer y or n:y\n"
     ]
    },
    {
     "data": {
      "text/plain": [
       "'Y'"
      ]
     },
     "execution_count": 17,
     "metadata": {},
     "output_type": "execute_result"
    }
   ],
   "source": [
    "replay()"
   ]
  },
  {
   "cell_type": "code",
   "execution_count": null,
   "metadata": {},
   "outputs": [
    {
     "name": "stdout",
     "output_type": "stream",
     "text": [
      "Welcome to Tic Tac Toe!\n",
      "player1 choose X or O: x\n",
      "Player1 will go first.\n",
      "Are you ready to play? Enter Yes or No.y\n",
      "Player1 \n",
      "Choose your  position(like in a keypad): (1-9) 5\n",
      " | | \n",
      " |X| \n",
      " | | \n",
      "player2\n",
      "Choose your  position(like in a keypad): (1-9) 1\n",
      "O| | \n",
      " |X| \n",
      " | | \n",
      "Player1 \n",
      "Choose your  position(like in a keypad): (1-9) 7\n",
      "O| | \n",
      " |X| \n",
      "X| | \n",
      "player2\n",
      "Choose your  position(like in a keypad): (1-9) 7\n",
      "Choose your  position(like in a keypad): (1-9) 3\n",
      "O| |O\n",
      " |X| \n",
      "X| | \n",
      "Player1 \n",
      "Choose your  position(like in a keypad): (1-9) 8\n",
      "O| |O\n",
      " |X| \n",
      "X|X| \n",
      "player2\n",
      "Choose your  position(like in a keypad): (1-9) 2\n",
      "O|O|O\n",
      " |X| \n",
      "X|X| \n",
      "O|O|O\n",
      " |X| \n",
      "X|X| \n",
      "Congratulations! you have won the game player2!\n",
      "do you want to continue answer y or n:y\n",
      "player1 choose X or O: 0\n",
      "player1 choose X or O: o\n",
      "Player1 will go first.\n",
      "Are you ready to play? Enter Yes or No.yes\n",
      "Player1 \n",
      "Choose your  position(like in a keypad): (1-9) 6\n",
      " | | \n",
      " | |O\n",
      " | | \n",
      "player2\n",
      "Choose your  position(like in a keypad): (1-9) 1\n",
      "X| | \n",
      " | |O\n",
      " | | \n",
      "Player1 \n",
      "Choose your  position(like in a keypad): (1-9) 5\n",
      "X| | \n",
      " |O|O\n",
      " | | \n",
      "player2\n",
      "Choose your  position(like in a keypad): (1-9) 4\n",
      "X| | \n",
      "X|O|O\n",
      " | | \n",
      "Player1 \n",
      "Choose your  position(like in a keypad): (1-9) 8\n",
      "X| | \n",
      "X|O|O\n",
      " |O| \n",
      "player2\n",
      "Choose your  position(like in a keypad): (1-9) 7\n",
      "X| | \n",
      "X|O|O\n",
      "X|O| \n",
      "X| | \n",
      "X|O|O\n",
      "X|O| \n",
      "Congratulations! you have won the game player2!\n"
     ]
    }
   ],
   "source": [
    "print('Welcome to Tic Tac Toe!')\n",
    "\n",
    "while True:\n",
    "    # Reset the board\n",
    "    theBoard = [' '] * 10\n",
    "    player1_marker, player2_marker = player_input()\n",
    "    turn = choose_first()\n",
    "    print(turn + ' will go first.')\n",
    "    \n",
    "    play_game = input('Are you ready to play? Enter Yes or No.')\n",
    "    \n",
    "    if play_game.lower()[0] == 'y':\n",
    "        game_on = True\n",
    "    else:\n",
    "        game_on = False\n",
    "\n",
    "    while game_on:\n",
    "        if turn == 'Player1':\n",
    "            print('Player1 ')\n",
    "            position = player_choice(theBoard)\n",
    "            place_marker(theBoard, player1_marker, position)\n",
    "\n",
    "            if win_check(theBoard, player1_marker):\n",
    "                display_board(theBoard)\n",
    "                print('Congratulations! You have won the game Player1!')\n",
    "                game_on = False\n",
    "            else:\n",
    "                if full_board_check(theBoard):\n",
    "                    display_board(theBoard)\n",
    "                    print('The game is a draw!')\n",
    "                    break\n",
    "                else:\n",
    "                    turn = 'Player2'\n",
    "\n",
    "        else:\n",
    "            # Player2's turn.\n",
    "            print('player2')\n",
    "            position = player_choice(theBoard)\n",
    "            place_marker(theBoard, player2_marker, position)\n",
    "\n",
    "            if win_check(theBoard, player2_marker):\n",
    "                display_board(theBoard)\n",
    "                print('Congratulations! you have won the game player2!')\n",
    "                game_on = False\n",
    "            else:\n",
    "                if full_board_check(theBoard):\n",
    "                    display_board(theBoard)\n",
    "                    print('The game is a draw!')\n",
    "                    break\n",
    "                else:\n",
    "                    turn = 'Player1'\n",
    "\n",
    "    if not replay()=='Y':\n",
    "        break"
   ]
  },
  {
   "cell_type": "markdown",
   "metadata": {},
   "source": [
    "### "
   ]
  }
 ],
 "metadata": {
  "kernelspec": {
   "display_name": "Python 3",
   "language": "python",
   "name": "python3"
  },
  "language_info": {
   "codemirror_mode": {
    "name": "ipython",
    "version": 3
   },
   "file_extension": ".py",
   "mimetype": "text/x-python",
   "name": "python",
   "nbconvert_exporter": "python",
   "pygments_lexer": "ipython3",
   "version": "3.8.5"
  }
 },
 "nbformat": 4,
 "nbformat_minor": 4
}
